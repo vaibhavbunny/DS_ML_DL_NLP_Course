{
 "cells": [
  {
   "cell_type": "markdown",
   "metadata": {},
   "source": [
    "Flask Framework\n",
    "--- web framework created with the help of python programming langauge.\n",
    "1. WSGI - web server gateway interference\n",
    "2. Jinja 2 Template Engine\n",
    "\n",
    "req 1\n",
    "req 2 ---> web server ( with the WSGI prtocol redirected to) ---> Web App ( Deployed on web server)-- > FlaskFW.\n",
    "req 3      (AWS EC2)                               \n",
    "            (AZURE APP)\n",
    "            (APACHE)\n",
    "            (IIS)\n",
    "\n",
    "Jinja 2 Template Engine.\n",
    "--- Jinja 2 ---> web template engine \n",
    "                |\n",
    "                |\n",
    "                web temnplates <----- Data Source (i.e. SQL DB, ML Model, CSV Sheet)\n",
    "                |\n",
    "                |\n",
    "                when gets called all templates get bundled up and get connected to data src.\n"
   ]
  },
  {
   "cell_type": "markdown",
   "metadata": {},
   "source": []
  }
 ],
 "metadata": {
  "kernelspec": {
   "display_name": "Python 3",
   "language": "python",
   "name": "python3"
  },
  "language_info": {
   "name": "python",
   "version": "3.10.0"
  }
 },
 "nbformat": 4,
 "nbformat_minor": 2
}
