{
 "cells": [
  {
   "cell_type": "code",
   "execution_count": null,
   "metadata": {},
   "outputs": [],
   "source": [
    "from sklearn.pipeline import Pipeline\n",
    "import numpy as np\n",
    "import pandas as pd\n",
    "import matplotlib.pyplot as plt\n",
    "%matplotlib inline\n",
    "from sklearn.model_selection import train_test_split\n",
    "from sklearn.model_selection import LinearRegression\n",
    "from sklearn.preprocessing import PolynomialFeatures"
   ]
  },
  {
   "cell_type": "code",
   "execution_count": null,
   "metadata": {},
   "outputs": [],
   "source": [
    "def poly_regression(degree):\n",
    "    x_new = np.linspace(-3, 3, 200).reshape(200, 1)\n",
    "    poly_features = PolynomialFeatures(degree=degree,include_bias=True)\n",
    "    lin_reg = LinearRegression()\n",
    "    poly_regression = Pipeline([\n",
    "        (\"poly_features\", poly_features),\n",
    "        (\"lin_regression\", lin_reg)\n",
    "    ])\n",
    "    poly_regression.fit(x_train,y_train) ## polynomial Regression and fit of the data.\n",
    "    y_pred_new = poly_regression.predict(x_new)\n",
    "    ## Plotting Prediction Line\n",
    "    plt.plot(x_new,y_pred_new,'r',lable=\"Degree\" + str(degree),linewidth=3)\n",
    "    plt.plot(x_train,y_train,'b.',linewidth=3)\n",
    "    plt.plot(x_test,y_test,'g.',linewidth=3)\n",
    "    plt.legend(loc='upper left')\n",
    "    plt.xlabel('X')\n",
    "    plt.ylabel('Y')\n",
    "    plt.axis([-4,4,0,10])\n",
    "    plt.show()\n",
    "    "
   ]
  }
 ],
 "metadata": {
  "kernelspec": {
   "display_name": "Python 3",
   "language": "python",
   "name": "python3"
  },
  "language_info": {
   "codemirror_mode": {
    "name": "ipython",
    "version": 3
   },
   "file_extension": ".py",
   "mimetype": "text/x-python",
   "name": "python",
   "nbconvert_exporter": "python",
   "pygments_lexer": "ipython3",
   "version": "3.10.0"
  }
 },
 "nbformat": 4,
 "nbformat_minor": 2
}
