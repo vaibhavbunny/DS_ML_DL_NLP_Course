{
 "cells": [
  {
   "cell_type": "code",
   "execution_count": null,
   "metadata": {},
   "outputs": [],
   "source": [
    "## referencing counting.\n",
    "\n",
    "## referencing counting is the primary method used by python. each object in python maintains a count of references pointing to it.when the reference count \n",
    "## drops to zero, the memory occupied by the object is deallocated."
   ]
  },
  {
   "cell_type": "code",
   "execution_count": null,
   "metadata": {},
   "outputs": [
    {
     "name": "stdout",
     "output_type": "stream",
     "text": [
      "2\n"
     ]
    }
   ],
   "source": [
    "import sys \n",
    "\n",
    "a = []\n",
    "## i am getting 2 as the output bcz 1 ref point is for a and another ref point is for getrefcount function.\n",
    "print(sys.getrefcount(a))"
   ]
  },
  {
   "cell_type": "code",
   "execution_count": 4,
   "metadata": {},
   "outputs": [
    {
     "name": "stdout",
     "output_type": "stream",
     "text": [
      "3\n"
     ]
    }
   ],
   "source": [
    "b = a\n",
    "print(sys.getrefcount(b)) ## ref count increeases to 3, one ref point added for b."
   ]
  },
  {
   "cell_type": "code",
   "execution_count": 10,
   "metadata": {},
   "outputs": [
    {
     "name": "stdout",
     "output_type": "stream",
     "text": [
      "2\n"
     ]
    }
   ],
   "source": [
    "## del b\n",
    "print(sys.getrefcount(a))\n",
    "## i got answer as 2 bcz i initially ran del b as well. so memory deallocated for b."
   ]
  },
  {
   "cell_type": "code",
   "execution_count": 11,
   "metadata": {},
   "outputs": [],
   "source": [
    "## garbage collection.\n",
    "\n",
    "import gc\n",
    "\n",
    "gc.enable()\n"
   ]
  },
  {
   "cell_type": "code",
   "execution_count": 12,
   "metadata": {},
   "outputs": [],
   "source": [
    "gc.disable()"
   ]
  },
  {
   "cell_type": "code",
   "execution_count": 13,
   "metadata": {},
   "outputs": [
    {
     "data": {
      "text/plain": [
       "2167"
      ]
     },
     "execution_count": 13,
     "metadata": {},
     "output_type": "execute_result"
    }
   ],
   "source": [
    "gc.collect()"
   ]
  },
  {
   "cell_type": "code",
   "execution_count": 14,
   "metadata": {},
   "outputs": [
    {
     "name": "stdout",
     "output_type": "stream",
     "text": [
      "[{'collections': 239, 'collected': 2613, 'uncollectable': 0}, {'collections': 21, 'collected': 682, 'uncollectable': 0}, {'collections': 2, 'collected': 2167, 'uncollectable': 0}]\n"
     ]
    }
   ],
   "source": [
    "## get garbage collection statistics.\n",
    "print(gc.get_stats())"
   ]
  },
  {
   "cell_type": "code",
   "execution_count": 16,
   "metadata": {},
   "outputs": [
    {
     "name": "stdout",
     "output_type": "stream",
     "text": [
      "[]\n"
     ]
    }
   ],
   "source": [
    "## get unreachable objects.\n",
    "print(gc.garbage)"
   ]
  },
  {
   "cell_type": "code",
   "execution_count": 17,
   "metadata": {},
   "outputs": [
    {
     "name": "stdout",
     "output_type": "stream",
     "text": [
      "Object obj1 is created\n",
      "Object obj2 is created\n",
      "Object obj1 is deleted\n",
      "Object obj2 is deleted\n"
     ]
    },
    {
     "data": {
      "text/plain": [
       "2565"
      ]
     },
     "execution_count": 17,
     "metadata": {},
     "output_type": "execute_result"
    }
   ],
   "source": [
    "import gc \n",
    "\n",
    "class MyObjet:\n",
    "    def __init__(self,name):\n",
    "        self.name = name\n",
    "        print(f\"Object {self.name} is created\")\n",
    "    def __del__(self):\n",
    "        print(f\"Object {self.name} is deleted\")\n",
    "        \n",
    "## create a circular reference.\n",
    "\n",
    "obj1 = MyObjet(\"obj1\")\n",
    "obj2 = MyObjet(\"obj2\")\n",
    "obj1.ref = obj2\n",
    "obj2.ref = obj1\n",
    "\n",
    "del obj1\n",
    "del obj2\n",
    "\n",
    "## manually trigger the garbage collector\n",
    "\n",
    "gc.collect()"
   ]
  },
  {
   "cell_type": "code",
   "execution_count": 18,
   "metadata": {},
   "outputs": [
    {
     "name": "stdout",
     "output_type": "stream",
     "text": [
      "0\n",
      "1\n",
      "2\n",
      "3\n",
      "4\n",
      "5\n",
      "6\n",
      "7\n",
      "8\n",
      "9\n",
      "10\n",
      "11\n"
     ]
    }
   ],
   "source": [
    "## Generators for Memory Efficiency\n",
    "## it allows us to create one item at a time, it keeps one item at a time in memory.\n",
    "\n",
    "def number(n):\n",
    "    for i in range(n):\n",
    "        yield i\n",
    "        \n",
    "for num in number(10000):\n",
    "    print(num)\n",
    "    if num > 10:\n",
    "        break"
   ]
  },
  {
   "cell_type": "code",
   "execution_count": 21,
   "metadata": {},
   "outputs": [],
   "source": [
    "## Profiling Memory Usage with tracemalloc\n",
    "import tracemalloc\n",
    "\n",
    "def create_list():\n",
    "    return [i for i in range(1000)]\n",
    "\n",
    "def main():\n",
    "    tracemalloc.start()\n",
    "    create_list()\n",
    "    snap_shot = tracemalloc.take_snapshot()\n",
    "    top_stats = snap_shot.statistics('lineno')\n",
    "    \n",
    "    print(\"[Top 10]\")\n",
    "    for stat in top_stats[::]:\n",
    "        print(stat)"
   ]
  },
  {
   "cell_type": "code",
   "execution_count": 22,
   "metadata": {},
   "outputs": [
    {
     "name": "stdout",
     "output_type": "stream",
     "text": [
      "[Top 10]\n",
      "/Users/vaibhavkale/ML Learnings/venv/lib/python3.10/json/decoder.py:353: size=20.9 KiB, count=194, average=110 B\n",
      "/Users/vaibhavkale/ML Learnings/venv/lib/python3.10/site-packages/IPython/core/compilerop.py:174: size=16.0 KiB, count=159, average=103 B\n",
      "/Users/vaibhavkale/ML Learnings/venv/lib/python3.10/site-packages/ipykernel/kernelbase.py:534: size=4936 B, count=10, average=494 B\n",
      "/Users/vaibhavkale/ML Learnings/venv/lib/python3.10/enum.py:384: size=4680 B, count=17, average=275 B\n",
      "/Users/vaibhavkale/ML Learnings/venv/lib/python3.10/site-packages/jupyter_client/jsonutil.py:111: size=4640 B, count=80, average=58 B\n",
      "/Users/vaibhavkale/ML Learnings/venv/lib/python3.10/site-packages/zmq/sugar/attrsettr.py:45: size=4620 B, count=84, average=55 B\n",
      "/Users/vaibhavkale/ML Learnings/venv/lib/python3.10/signal.py:30: size=4472 B, count=17, average=263 B\n",
      "/Users/vaibhavkale/ML Learnings/venv/lib/python3.10/codeop.py:150: size=4432 B, count=66, average=67 B\n",
      "/Users/vaibhavkale/ML Learnings/venv/lib/python3.10/signal.py:48: size=4104 B, count=9, average=456 B\n",
      "/Users/vaibhavkale/ML Learnings/venv/lib/python3.10/site-packages/traitlets/traitlets.py:731: size=3755 B, count=52, average=72 B\n",
      "/Users/vaibhavkale/ML Learnings/venv/lib/python3.10/site-packages/ipykernel/kernelbase.py:464: size=3368 B, count=7, average=481 B\n",
      "/Users/vaibhavkale/ML Learnings/venv/lib/python3.10/site-packages/ipykernel/kernelbase.py:445: size=3136 B, count=7, average=448 B\n",
      "/Users/vaibhavkale/ML Learnings/venv/lib/python3.10/site-packages/IPython/core/compilerop.py:86: size=2877 B, count=49, average=59 B\n",
      "/Users/vaibhavkale/ML Learnings/venv/lib/python3.10/site-packages/traitlets/traitlets.py:1514: size=2688 B, count=16, average=168 B\n",
      "/Users/vaibhavkale/ML Learnings/venv/lib/python3.10/site-packages/jupyter_client/session.py:1085: size=2664 B, count=9, average=296 B\n",
      "/Users/vaibhavkale/ML Learnings/venv/lib/python3.10/site-packages/jupyter_client/jsonutil.py:75: size=2664 B, count=9, average=296 B\n",
      "/Users/vaibhavkale/ML Learnings/venv/lib/python3.10/site-packages/ipykernel/iostream.py:346: size=2200 B, count=19, average=116 B\n",
      "/Users/vaibhavkale/ML Learnings/venv/lib/python3.10/enum.py:699: size=1824 B, count=20, average=91 B\n",
      "/Users/vaibhavkale/ML Learnings/venv/lib/python3.10/site-packages/traitlets/traitlets.py:1543: size=1587 B, count=23, average=69 B\n",
      "/Users/vaibhavkale/ML Learnings/venv/lib/python3.10/site-packages/jupyter_client/session.py:1057: size=1463 B, count=13, average=113 B\n",
      "/Users/vaibhavkale/ML Learnings/venv/lib/python3.10/site-packages/jupyter_client/session.py:95: size=1249 B, count=8, average=156 B\n",
      "/Users/vaibhavkale/ML Learnings/venv/lib/python3.10/tracemalloc.py:535: size=1240 B, count=3, average=413 B\n",
      "/Users/vaibhavkale/ML Learnings/venv/lib/python3.10/site-packages/ipykernel/compiler.py:91: size=1141 B, count=9, average=127 B\n",
      "/Users/vaibhavkale/ML Learnings/venv/lib/python3.10/site-packages/zmq/sugar/socket.py:805: size=1056 B, count=6, average=176 B\n",
      "/Users/vaibhavkale/ML Learnings/venv/lib/python3.10/site-packages/ipykernel/kernelbase.py:435: size=1008 B, count=9, average=112 B\n",
      "/Users/vaibhavkale/ML Learnings/venv/lib/python3.10/site-packages/jupyter_client/jsonutil.py:73: size=896 B, count=14, average=64 B\n",
      "/Users/vaibhavkale/ML Learnings/venv/lib/python3.10/tracemalloc.py:226: size=832 B, count=2, average=416 B\n",
      "/Users/vaibhavkale/ML Learnings/venv/lib/python3.10/sre_parse.py:443: size=832 B, count=1, average=832 B\n",
      "/Users/vaibhavkale/ML Learnings/venv/lib/python3.10/tracemalloc.py:505: size=824 B, count=2, average=412 B\n",
      "/Users/vaibhavkale/ML Learnings/venv/lib/python3.10/tracemalloc.py:173: size=800 B, count=2, average=400 B\n",
      "/Users/vaibhavkale/ML Learnings/venv/lib/python3.10/threading.py:255: size=784 B, count=5, average=157 B\n",
      "/Users/vaibhavkale/ML Learnings/venv/lib/python3.10/site-packages/ipykernel/iostream.py:287: size=720 B, count=5, average=144 B\n",
      "/Users/vaibhavkale/ML Learnings/venv/lib/python3.10/sre_compile.py:148: size=664 B, count=1, average=664 B\n",
      "/Users/vaibhavkale/ML Learnings/venv/lib/python3.10/site-packages/jupyter_client/session.py:989: size=663 B, count=10, average=66 B\n",
      "/Users/vaibhavkale/ML Learnings/venv/lib/python3.10/asyncio/events.py:80: size=656 B, count=6, average=109 B\n",
      "/Users/vaibhavkale/ML Learnings/venv/lib/python3.10/site-packages/IPython/core/interactiveshell.py:3577: size=632 B, count=1, average=632 B\n",
      "/Users/vaibhavkale/ML Learnings/venv/lib/python3.10/inspect.py:2395: size=632 B, count=1, average=632 B\n",
      "/Users/vaibhavkale/ML Learnings/venv/lib/python3.10/site-packages/ipykernel/iostream.py:154: size=576 B, count=1, average=576 B\n",
      "/Users/vaibhavkale/ML Learnings/venv/lib/python3.10/site-packages/jupyter_client/session.py:996: size=568 B, count=14, average=41 B\n",
      "/Users/vaibhavkale/ML Learnings/venv/lib/python3.10/tracemalloc.py:533: size=568 B, count=1, average=568 B\n",
      "/Users/vaibhavkale/ML Learnings/venv/lib/python3.10/sre_parse.py:834: size=544 B, count=1, average=544 B\n",
      "/Users/vaibhavkale/ML Learnings/venv/lib/python3.10/site-packages/ipykernel/iostream.py:609: size=528 B, count=1, average=528 B\n",
      "/Users/vaibhavkale/ML Learnings/venv/lib/python3.10/site-packages/tornado/platform/asyncio.py:235: size=512 B, count=8, average=64 B\n",
      "/Users/vaibhavkale/ML Learnings/venv/lib/python3.10/enum.py:701: size=504 B, count=9, average=56 B\n",
      "/Users/vaibhavkale/ML Learnings/venv/lib/python3.10/site-packages/IPython/core/completer.py:2818: size=496 B, count=1, average=496 B\n",
      "/Users/vaibhavkale/ML Learnings/venv/lib/python3.10/site-packages/IPython/core/completer.py:660: size=496 B, count=1, average=496 B\n",
      "/Users/vaibhavkale/ML Learnings/venv/lib/python3.10/inspect.py:2630: size=496 B, count=1, average=496 B\n",
      "/Users/vaibhavkale/ML Learnings/venv/lib/python3.10/site-packages/jupyter_client/session.py:1082: size=488 B, count=1, average=488 B\n",
      "/Users/vaibhavkale/ML Learnings/venv/lib/python3.10/site-packages/ipykernel/iostream.py:267: size=488 B, count=1, average=488 B\n",
      "/Users/vaibhavkale/ML Learnings/venv/lib/python3.10/asyncio/base_events.py:424: size=480 B, count=3, average=160 B\n",
      "/var/folders/37/lfcwt6tj0fg_c56ytzq6yrv80000gn/T/ipykernel_64130/3450009127.py:11: size=448 B, count=1, average=448 B\n",
      "/Users/vaibhavkale/ML Learnings/venv/lib/python3.10/site-packages/IPython/core/history.py:782: size=445 B, count=2, average=222 B\n",
      "/var/folders/37/lfcwt6tj0fg_c56ytzq6yrv80000gn/T/ipykernel_64130/3450009127.py:15: size=440 B, count=1, average=440 B\n",
      "/Users/vaibhavkale/ML Learnings/venv/lib/python3.10/site-packages/ipykernel/kernelbase.py:460: size=440 B, count=1, average=440 B\n",
      "/Users/vaibhavkale/ML Learnings/venv/lib/python3.10/site-packages/dateutil/parser/isoparser.py:146: size=432 B, count=9, average=48 B\n",
      "/Users/vaibhavkale/ML Learnings/venv/lib/python3.10/tracemalloc.py:59: size=432 B, count=1, average=432 B\n",
      "/var/folders/37/lfcwt6tj0fg_c56ytzq6yrv80000gn/T/ipykernel_64130/451043146.py:1: size=424 B, count=1, average=424 B\n",
      "/Users/vaibhavkale/ML Learnings/venv/lib/python3.10/tracemalloc.py:498: size=424 B, count=1, average=424 B\n",
      "/var/folders/37/lfcwt6tj0fg_c56ytzq6yrv80000gn/T/ipykernel_64130/3521473757.py:10: size=416 B, count=1, average=416 B\n",
      "/var/folders/37/lfcwt6tj0fg_c56ytzq6yrv80000gn/T/ipykernel_64130/3521473757.py:5: size=416 B, count=1, average=416 B\n",
      "/Users/vaibhavkale/ML Learnings/venv/lib/python3.10/tracemalloc.py:560: size=416 B, count=1, average=416 B\n",
      "/Users/vaibhavkale/ML Learnings/venv/lib/python3.10/tracemalloc.py:423: size=416 B, count=1, average=416 B\n",
      "/Users/vaibhavkale/ML Learnings/venv/lib/python3.10/tracemalloc.py:207: size=408 B, count=1, average=408 B\n",
      "/Users/vaibhavkale/ML Learnings/venv/lib/python3.10/tracemalloc.py:53: size=408 B, count=1, average=408 B\n",
      "/var/folders/37/lfcwt6tj0fg_c56ytzq6yrv80000gn/T/ipykernel_64130/3521473757.py:9: size=400 B, count=1, average=400 B\n",
      "/Users/vaibhavkale/ML Learnings/venv/lib/python3.10/concurrent/futures/_base.py:319: size=384 B, count=6, average=64 B\n",
      "/Users/vaibhavkale/ML Learnings/venv/lib/python3.10/threading.py:101: size=368 B, count=4, average=92 B\n",
      "/Users/vaibhavkale/ML Learnings/venv/lib/python3.10/asyncio/futures.py:413: size=360 B, count=9, average=40 B\n",
      "/Users/vaibhavkale/ML Learnings/venv/lib/python3.10/site-packages/IPython/core/compilerop.py:171: size=360 B, count=5, average=72 B\n",
      "/Users/vaibhavkale/ML Learnings/venv/lib/python3.10/site-packages/ipykernel/zmqshell.py:549: size=336 B, count=4, average=84 B\n",
      "/Users/vaibhavkale/ML Learnings/venv/lib/python3.10/inspect.py:156: size=336 B, count=2, average=168 B\n",
      "/Users/vaibhavkale/ML Learnings/venv/lib/python3.10/site-packages/tornado/queues.py:248: size=320 B, count=2, average=160 B\n",
      "/Users/vaibhavkale/ML Learnings/venv/lib/python3.10/site-packages/ipykernel/zmqshell.py:76: size=296 B, count=1, average=296 B\n",
      "/Users/vaibhavkale/ML Learnings/venv/lib/python3.10/site-packages/ipykernel/kernelbase.py:770: size=296 B, count=1, average=296 B\n",
      "/Users/vaibhavkale/ML Learnings/venv/lib/python3.10/site-packages/ipykernel/iostream.py:142: size=296 B, count=1, average=296 B\n",
      "/Users/vaibhavkale/ML Learnings/venv/lib/python3.10/asyncio/base_events.py:765: size=288 B, count=3, average=96 B\n",
      "/Users/vaibhavkale/ML Learnings/venv/lib/python3.10/site-packages/ipykernel/iostream.py:276: size=288 B, count=2, average=144 B\n",
      "/Users/vaibhavkale/ML Learnings/venv/lib/python3.10/asyncio/futures.py:391: size=288 B, count=2, average=144 B\n",
      "/Users/vaibhavkale/ML Learnings/venv/lib/python3.10/asyncio/futures.py:378: size=288 B, count=2, average=144 B\n",
      "/Users/vaibhavkale/ML Learnings/venv/lib/python3.10/site-packages/IPython/core/interactiveshell.py:259: size=272 B, count=5, average=54 B\n",
      "/Users/vaibhavkale/ML Learnings/venv/lib/python3.10/site-packages/ipykernel/iostream.py:527: size=272 B, count=4, average=68 B\n",
      "/Users/vaibhavkale/ML Learnings/venv/lib/python3.10/site-packages/jupyter_client/session.py:1053: size=256 B, count=4, average=64 B\n",
      "/Users/vaibhavkale/ML Learnings/venv/lib/python3.10/site-packages/traitlets/traitlets.py:1540: size=240 B, count=4, average=60 B\n",
      "/Users/vaibhavkale/ML Learnings/venv/lib/python3.10/site-packages/IPython/core/interactiveshell.py:3104: size=232 B, count=4, average=58 B\n",
      "/Users/vaibhavkale/ML Learnings/venv/lib/python3.10/site-packages/zmq/sugar/socket.py:802: size=232 B, count=2, average=116 B\n",
      "/Users/vaibhavkale/ML Learnings/venv/lib/python3.10/site-packages/IPython/core/compilerop.py:172: size=224 B, count=8, average=28 B\n",
      "/Users/vaibhavkale/ML Learnings/venv/lib/python3.10/site-packages/IPython/core/interactiveshell.py:3509: size=216 B, count=5, average=43 B\n",
      "/Users/vaibhavkale/ML Learnings/venv/lib/python3.10/sre_compile.py:780: size=208 B, count=1, average=208 B\n",
      "/Users/vaibhavkale/ML Learnings/venv/lib/python3.10/site-packages/jupyter_client/session.py:688: size=194 B, count=2, average=97 B\n",
      "/Users/vaibhavkale/ML Learnings/venv/lib/python3.10/threading.py:258: size=192 B, count=2, average=96 B\n",
      "/Users/vaibhavkale/ML Learnings/venv/lib/python3.10/site-packages/jupyter_client/session.py:750: size=192 B, count=2, average=96 B\n",
      "/Users/vaibhavkale/ML Learnings/venv/lib/python3.10/threading.py:313: size=176 B, count=2, average=88 B\n",
      "/Users/vaibhavkale/ML Learnings/venv/lib/python3.10/site-packages/ipykernel/kernelbase.py:1182: size=173 B, count=2, average=86 B\n",
      "/Users/vaibhavkale/ML Learnings/venv/lib/python3.10/site-packages/ipykernel/kernelbase.py:775: size=152 B, count=2, average=76 B\n",
      "/Users/vaibhavkale/ML Learnings/venv/lib/python3.10/threading.py:251: size=144 B, count=2, average=72 B\n",
      "/Users/vaibhavkale/ML Learnings/venv/lib/python3.10/threading.py:247: size=144 B, count=2, average=72 B\n",
      "/Users/vaibhavkale/ML Learnings/venv/lib/python3.10/threading.py:242: size=144 B, count=2, average=72 B\n",
      "/Users/vaibhavkale/ML Learnings/venv/lib/python3.10/threading.py:241: size=144 B, count=2, average=72 B\n",
      "/Users/vaibhavkale/ML Learnings/venv/lib/python3.10/site-packages/ipykernel/iostream.py:722: size=144 B, count=2, average=72 B\n",
      "/Users/vaibhavkale/ML Learnings/venv/lib/python3.10/site-packages/IPython/core/history.py:836: size=144 B, count=2, average=72 B\n",
      "/var/folders/37/lfcwt6tj0fg_c56ytzq6yrv80000gn/T/ipykernel_64130/3521473757.py:7: size=144 B, count=1, average=144 B\n",
      "/var/folders/37/lfcwt6tj0fg_c56ytzq6yrv80000gn/T/ipykernel_64130/3521473757.py:4: size=144 B, count=1, average=144 B\n",
      "/Users/vaibhavkale/ML Learnings/venv/lib/python3.10/site-packages/zmq/eventloop/zmqstream.py:468: size=144 B, count=1, average=144 B\n",
      "/Users/vaibhavkale/ML Learnings/venv/lib/python3.10/site-packages/ipykernel/kernelbase.py:570: size=144 B, count=1, average=144 B\n",
      "/Users/vaibhavkale/ML Learnings/venv/lib/python3.10/site-packages/ipykernel/kernelbase.py:324: size=144 B, count=1, average=144 B\n",
      "/Users/vaibhavkale/ML Learnings/venv/lib/python3.10/site-packages/IPython/core/interactiveshell.py:3493: size=144 B, count=1, average=144 B\n",
      "/Users/vaibhavkale/ML Learnings/venv/lib/python3.10/site-packages/IPython/core/interactiveshell.py:3237: size=144 B, count=1, average=144 B\n",
      "/Users/vaibhavkale/ML Learnings/venv/lib/python3.10/asyncio/futures.py:384: size=144 B, count=1, average=144 B\n",
      "/Users/vaibhavkale/ML Learnings/venv/lib/python3.10/site-packages/ipykernel/ipkernel.py:449: size=128 B, count=2, average=64 B\n",
      "/Users/vaibhavkale/ML Learnings/venv/lib/python3.10/site-packages/IPython/core/interactiveshell.py:297: size=128 B, count=2, average=64 B\n",
      "/Users/vaibhavkale/ML Learnings/venv/lib/python3.10/contextlib.py:103: size=128 B, count=2, average=64 B\n",
      "/Users/vaibhavkale/ML Learnings/venv/lib/python3.10/site-packages/IPython/core/async_helpers.py:150: size=122 B, count=2, average=61 B\n",
      "/Users/vaibhavkale/ML Learnings/venv/lib/python3.10/tokenize.py:530: size=112 B, count=2, average=56 B\n",
      "/Users/vaibhavkale/ML Learnings/venv/lib/python3.10/site-packages/IPython/core/interactiveshell.py:3483: size=112 B, count=2, average=56 B\n",
      "/Users/vaibhavkale/ML Learnings/venv/lib/python3.10/site-packages/IPython/core/interactiveshell.py:3375: size=112 B, count=2, average=56 B\n",
      "/Users/vaibhavkale/ML Learnings/venv/lib/python3.10/site-packages/IPython/core/completer.py:1121: size=112 B, count=2, average=56 B\n",
      "/Users/vaibhavkale/ML Learnings/venv/lib/python3.10/concurrent/futures/_base.py:324: size=112 B, count=2, average=56 B\n",
      "/Users/vaibhavkale/ML Learnings/venv/lib/python3.10/site-packages/ipykernel/kernelbase.py:545: size=112 B, count=1, average=112 B\n",
      "/Users/vaibhavkale/ML Learnings/venv/lib/python3.10/site-packages/ipykernel/ipkernel.py:362: size=112 B, count=1, average=112 B\n",
      "/Users/vaibhavkale/ML Learnings/venv/lib/python3.10/site-packages/ipykernel/iostream.py:121: size=112 B, count=1, average=112 B\n",
      "/Users/vaibhavkale/ML Learnings/venv/lib/python3.10/site-packages/IPython/core/interactiveshell.py:3517: size=112 B, count=1, average=112 B\n",
      "/Users/vaibhavkale/ML Learnings/venv/lib/python3.10/site-packages/IPython/core/interactiveshell.py:3334: size=112 B, count=1, average=112 B\n",
      "/Users/vaibhavkale/ML Learnings/venv/lib/python3.10/asyncio/base_events.py:728: size=112 B, count=1, average=112 B\n",
      "/Users/vaibhavkale/ML Learnings/venv/lib/python3.10/site-packages/zmq/sugar/attrsettr.py:29: size=110 B, count=2, average=55 B\n",
      "/Users/vaibhavkale/ML Learnings/venv/lib/python3.10/site-packages/IPython/core/history.py:805: size=106 B, count=2, average=53 B\n",
      "/Users/vaibhavkale/ML Learnings/venv/lib/python3.10/site-packages/ipykernel/kernelbase.py:318: size=96 B, count=2, average=48 B\n",
      "/Users/vaibhavkale/ML Learnings/venv/lib/python3.10/site-packages/IPython/core/interactiveshell.py:3224: size=96 B, count=2, average=48 B\n",
      "/Users/vaibhavkale/ML Learnings/venv/lib/python3.10/site-packages/IPython/core/interactiveshell.py:3223: size=96 B, count=2, average=48 B\n",
      "/Users/vaibhavkale/ML Learnings/venv/lib/python3.10/asyncio/base_events.py:1865: size=96 B, count=2, average=48 B\n",
      "/Users/vaibhavkale/ML Learnings/venv/lib/python3.10/warnings.py:189: size=96 B, count=1, average=96 B\n",
      "/Users/vaibhavkale/ML Learnings/venv/lib/python3.10/selectors.py:562: size=96 B, count=1, average=96 B\n",
      "/Users/vaibhavkale/ML Learnings/venv/lib/python3.10/site-packages/ipykernel/kernelbase.py:391: size=80 B, count=2, average=40 B\n",
      "/Users/vaibhavkale/ML Learnings/venv/lib/python3.10/site-packages/ipykernel/kernelbase.py:327: size=80 B, count=2, average=40 B\n",
      "/Users/vaibhavkale/ML Learnings/venv/lib/python3.10/warnings.py:163: size=80 B, count=1, average=80 B\n",
      "/Users/vaibhavkale/ML Learnings/venv/lib/python3.10/fnmatch.py:52: size=80 B, count=1, average=80 B\n",
      "/Users/vaibhavkale/ML Learnings/venv/lib/python3.10/concurrent/futures/_base.py:410: size=64 B, count=2, average=32 B\n",
      "/Users/vaibhavkale/ML Learnings/venv/lib/python3.10/threading.py:597: size=64 B, count=1, average=64 B\n",
      "/Users/vaibhavkale/ML Learnings/venv/lib/python3.10/threading.py:239: size=64 B, count=1, average=64 B\n",
      "/Users/vaibhavkale/ML Learnings/venv/lib/python3.10/site-packages/zmq/sugar/socket.py:806: size=64 B, count=1, average=64 B\n",
      "/Users/vaibhavkale/ML Learnings/venv/lib/python3.10/site-packages/ipykernel/kernelbase.py:761: size=64 B, count=1, average=64 B\n",
      "/Users/vaibhavkale/ML Learnings/venv/lib/python3.10/site-packages/ipykernel/kernelbase.py:721: size=64 B, count=1, average=64 B\n",
      "/Users/vaibhavkale/ML Learnings/venv/lib/python3.10/site-packages/ipykernel/kernelbase.py:69: size=64 B, count=1, average=64 B\n",
      "/Users/vaibhavkale/ML Learnings/venv/lib/python3.10/site-packages/ipykernel/ipkernel.py:384: size=64 B, count=1, average=64 B\n",
      "/Users/vaibhavkale/ML Learnings/venv/lib/python3.10/site-packages/ipykernel/ipkernel.py:383: size=64 B, count=1, average=64 B\n",
      "/Users/vaibhavkale/ML Learnings/venv/lib/python3.10/site-packages/ipykernel/ipkernel.py:381: size=64 B, count=1, average=64 B\n",
      "/Users/vaibhavkale/ML Learnings/venv/lib/python3.10/site-packages/ipykernel/ipkernel.py:294: size=64 B, count=1, average=64 B\n",
      "/Users/vaibhavkale/ML Learnings/venv/lib/python3.10/site-packages/ipykernel/ipkernel.py:291: size=64 B, count=1, average=64 B\n",
      "/Users/vaibhavkale/ML Learnings/venv/lib/python3.10/site-packages/IPython/core/interactiveshell.py:3566: size=64 B, count=1, average=64 B\n",
      "/Users/vaibhavkale/ML Learnings/venv/lib/python3.10/site-packages/IPython/core/interactiveshell.py:3303: size=64 B, count=1, average=64 B\n",
      "/Users/vaibhavkale/ML Learnings/venv/lib/python3.10/site-packages/IPython/core/interactiveshell.py:3300: size=64 B, count=1, average=64 B\n",
      "/Users/vaibhavkale/ML Learnings/venv/lib/python3.10/fnmatch.py:183: size=60 B, count=1, average=60 B\n",
      "/Users/vaibhavkale/ML Learnings/venv/lib/python3.10/site-packages/tornado/queues.py:318: size=56 B, count=2, average=28 B\n",
      "/Users/vaibhavkale/ML Learnings/venv/lib/python3.10/warnings.py:463: size=56 B, count=1, average=56 B\n",
      "/Users/vaibhavkale/ML Learnings/venv/lib/python3.10/tokenize.py:519: size=56 B, count=1, average=56 B\n",
      "/Users/vaibhavkale/ML Learnings/venv/lib/python3.10/site-packages/traitlets/traitlets.py:1534: size=56 B, count=1, average=56 B\n",
      "/Users/vaibhavkale/ML Learnings/venv/lib/python3.10/site-packages/jupyter_client/session.py:738: size=56 B, count=1, average=56 B\n",
      "/Users/vaibhavkale/ML Learnings/venv/lib/python3.10/site-packages/IPython/core/interactiveshell.py:3498: size=56 B, count=1, average=56 B\n",
      "/Users/vaibhavkale/ML Learnings/venv/lib/python3.10/selectors.py:560: size=56 B, count=1, average=56 B\n",
      "/Users/vaibhavkale/ML Learnings/venv/lib/python3.10/fnmatch.py:58: size=56 B, count=1, average=56 B\n",
      "/Users/vaibhavkale/ML Learnings/venv/lib/python3.10/site-packages/IPython/core/prefilter.py:317: size=55 B, count=1, average=55 B\n",
      "/Users/vaibhavkale/ML Learnings/venv/lib/python3.10/site-packages/IPython/core/completer.py:2035: size=52 B, count=1, average=52 B\n",
      "/Users/vaibhavkale/ML Learnings/venv/lib/python3.10/site-packages/tornado/concurrent.py:193: size=48 B, count=1, average=48 B\n",
      "/Users/vaibhavkale/ML Learnings/venv/lib/python3.10/site-packages/jupyter_client/session.py:200: size=48 B, count=1, average=48 B\n",
      "/Users/vaibhavkale/ML Learnings/venv/lib/python3.10/site-packages/IPython/core/interactiveshell.py:3505: size=48 B, count=1, average=48 B\n",
      "/Users/vaibhavkale/ML Learnings/venv/lib/python3.10/enum.py:680: size=48 B, count=1, average=48 B\n",
      "/Users/vaibhavkale/ML Learnings/venv/lib/python3.10/site-packages/IPython/core/interactiveshell.py:3503: size=32 B, count=1, average=32 B\n",
      "/Users/vaibhavkale/ML Learnings/venv/lib/python3.10/site-packages/IPython/core/history.py:793: size=32 B, count=1, average=32 B\n",
      "/Users/vaibhavkale/ML Learnings/venv/lib/python3.10/selectors.py:576: size=32 B, count=1, average=32 B\n",
      "/Users/vaibhavkale/ML Learnings/venv/lib/python3.10/asyncio/base_events.py:731: size=32 B, count=1, average=32 B\n",
      "/Users/vaibhavkale/ML Learnings/venv/lib/python3.10/site-packages/jupyter_client/session.py:603: size=28 B, count=1, average=28 B\n",
      "/Users/vaibhavkale/ML Learnings/venv/lib/python3.10/site-packages/ipykernel/kernelbase.py:560: size=28 B, count=1, average=28 B\n",
      "/Users/vaibhavkale/ML Learnings/venv/lib/python3.10/site-packages/ipykernel/iostream.py:637: size=28 B, count=1, average=28 B\n",
      "/Users/vaibhavkale/ML Learnings/venv/lib/python3.10/site-packages/IPython/core/completer.py:2888: size=28 B, count=1, average=28 B\n",
      "/Users/vaibhavkale/ML Learnings/venv/lib/python3.10/site-packages/IPython/core/completer.py:882: size=28 B, count=1, average=28 B\n",
      "/Users/vaibhavkale/ML Learnings/venv/lib/python3.10/site-packages/IPython/core/compilerop.py:192: size=28 B, count=1, average=28 B\n",
      "/Users/vaibhavkale/ML Learnings/venv/lib/python3.10/queue.py:151: size=28 B, count=1, average=28 B\n",
      "/Users/vaibhavkale/ML Learnings/venv/lib/python3.10/site-packages/IPython/core/interactiveshell.py:3485: size=8 B, count=1, average=8 B\n"
     ]
    }
   ],
   "source": [
    "main()"
   ]
  },
  {
   "cell_type": "code",
   "execution_count": null,
   "metadata": {},
   "outputs": [],
   "source": []
  }
 ],
 "metadata": {
  "kernelspec": {
   "display_name": "Python 3",
   "language": "python",
   "name": "python3"
  },
  "language_info": {
   "codemirror_mode": {
    "name": "ipython",
    "version": 3
   },
   "file_extension": ".py",
   "mimetype": "text/x-python",
   "name": "python",
   "nbconvert_exporter": "python",
   "pygments_lexer": "ipython3",
   "version": "3.10.0"
  }
 },
 "nbformat": 4,
 "nbformat_minor": 2
}
