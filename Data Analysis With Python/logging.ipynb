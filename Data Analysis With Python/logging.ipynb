{
 "cells": [
  {
   "cell_type": "code",
   "execution_count": 7,
   "metadata": {},
   "outputs": [
    {
     "name": "stderr",
     "output_type": "stream",
     "text": [
      "DEBUG:root:This is Debugging msg\n",
      "INFO:root:This is info msg\n",
      "ERROR:root:This is error msg\n",
      "WARNING:root:This is warning msg\n",
      "CRITICAL:root:This is critical msg\n"
     ]
    }
   ],
   "source": [
    "import logging \n",
    "\n",
    "## configure the basic logging settings.\n",
    "\n",
    "logging.basicConfig(level=logging.DEBUG)\n",
    "\n",
    "## log messages with different severity levels.\n",
    "logging.debug(\"This is Debugging msg\")\n",
    "logging.info(\"This is info msg\")\n",
    "logging.error(\"This is error msg\")\n",
    "logging.warning(\"This is warning msg\")\n",
    "logging.critical(\"This is critical msg\")\n"
   ]
  },
  {
   "cell_type": "code",
   "execution_count": 9,
   "metadata": {},
   "outputs": [
    {
     "name": "stderr",
     "output_type": "stream",
     "text": [
      "DEBUG:root:This is a Debugging msg\n",
      "INFO:root:This is an info msg\n",
      "ERROR:root:This is an error msg\n",
      "WARNING:root:This is a warning msg\n",
      "CRITICAL:root:This is a critical msg\n"
     ]
    }
   ],
   "source": [
    "import logging\n",
    "\n",
    "# Configure logging\n",
    "logging.basicConfig(\n",
    "    filename='app.log',\n",
    "    filemode='w',  # 'w' for overwrite, 'a' for append\n",
    "    level=logging.DEBUG,\n",
    "    format='%(asctime)s - %(name)s - %(levelname)s - %(message)s',\n",
    "    datefmt='%Y-%m-%d %H:%M:%S'\n",
    ")\n",
    "\n",
    "# Log messages with different severity levels.\n",
    "logging.debug(\"This is a Debugging msg\")\n",
    "logging.info(\"This is an info msg\")\n",
    "logging.error(\"This is an error msg\")\n",
    "logging.warning(\"This is a warning msg\")\n",
    "logging.critical(\"This is a critical msg\")\n",
    "\n",
    "\n",
    "## after execution of this program a file names app.log will be getting created and inside the file it,\n",
    "## will be written the given information below.\n"
   ]
  },
  {
   "cell_type": "code",
   "execution_count": null,
   "metadata": {},
   "outputs": [],
   "source": [
    "## logging with multiple loggers\n",
    "\n",
    "import logging \n",
    "\n",
    "logger1 = logging.getLogger(\"module1\")\n",
    "logger1.setLevel(logging.DEBUG)\n",
    "\n",
    "logger2 = logging.getLogger(\"module2\")\n",
    "logger2.setLevel(logging.WARNING)\n",
    "\n",
    "\n",
    "# Configure logging\n",
    "logging.basicConfig(\n",
    "    level=logging.DEBUG,\n",
    "    format='%(asctime)s - %(name)s - %(levelname)s - %(message)s',\n",
    "    datefmt='%Y-%m-%d %H:%M:%S'\n",
    ")"
   ]
  },
  {
   "cell_type": "code",
   "execution_count": 12,
   "metadata": {},
   "outputs": [
    {
     "name": "stderr",
     "output_type": "stream",
     "text": [
      "DEBUG:module1:This is debug msg for module1\n",
      "WARNING:module2:This is warning msg for module2\n"
     ]
    }
   ],
   "source": [
    "## log messages with differenet loggers.\n",
    "logger1.debug(\"This is debug msg for module1\")\n",
    "logger2.warning(\"This is warning msg for module2\")"
   ]
  },
  {
   "cell_type": "code",
   "execution_count": null,
   "metadata": {},
   "outputs": [],
   "source": [
    "## look for app.py file and refer while revising this part."
   ]
  }
 ],
 "metadata": {
  "kernelspec": {
   "display_name": "Python 3",
   "language": "python",
   "name": "python3"
  },
  "language_info": {
   "codemirror_mode": {
    "name": "ipython",
    "version": 3
   },
   "file_extension": ".py",
   "mimetype": "text/x-python",
   "name": "python",
   "nbconvert_exporter": "python",
   "pygments_lexer": "ipython3",
   "version": "3.10.0"
  }
 },
 "nbformat": 4,
 "nbformat_minor": 2
}
