{
 "cells": [
  {
   "cell_type": "code",
   "execution_count": 15,
   "metadata": {},
   "outputs": [],
   "source": [
    "import sqlite3\n"
   ]
  },
  {
   "cell_type": "code",
   "execution_count": 16,
   "metadata": {},
   "outputs": [
    {
     "data": {
      "text/plain": [
       "<sqlite3.Connection at 0x10a017640>"
      ]
     },
     "execution_count": 16,
     "metadata": {},
     "output_type": "execute_result"
    }
   ],
   "source": [
    "## Connect to an SQLite Database\n",
    "connection = sqlite3.connect('example.db')\n",
    "connection"
   ]
  },
  {
   "cell_type": "code",
   "execution_count": 17,
   "metadata": {},
   "outputs": [],
   "source": [
    "##  Creating a cursor\n",
    "cursor = connection.cursor()"
   ]
  },
  {
   "cell_type": "code",
   "execution_count": 21,
   "metadata": {},
   "outputs": [],
   "source": [
    "## Create a Table.\n",
    "cursor.execute('''\n",
    "CREATE TABLE IF NOT EXISTS STUDENTS(\n",
    "    ID INTEGER PRIMARY KEY,\n",
    "    NAME TEXT NOT NULL,\n",
    "    AGE INTEGER,\n",
    "    DEPARTMENT TEXT\n",
    "    )\n",
    "''')\n",
    "\n",
    "## Commit the changes.\n",
    "connection.commit()"
   ]
  },
  {
   "cell_type": "code",
   "execution_count": 22,
   "metadata": {},
   "outputs": [
    {
     "data": {
      "text/plain": [
       "<sqlite3.Cursor at 0x10a45c1c0>"
      ]
     },
     "execution_count": 22,
     "metadata": {},
     "output_type": "execute_result"
    }
   ],
   "source": [
    "cursor.execute('''               \n",
    "SELECT * FROM STUDENTS\n",
    "\n",
    "''')"
   ]
  },
  {
   "cell_type": "code",
   "execution_count": 25,
   "metadata": {},
   "outputs": [],
   "source": [
    "## insert the data in sqlite table.\n",
    "\n",
    "cursor.execute('''\n",
    "    INSERT INTO STUDENTS(NAME,AGE , DEPARTMENT)\n",
    "    VALUES('VAIBHAV',22,'BB')               \n",
    "''')\n",
    "\n",
    "cursor.execute('''\n",
    "    INSERT INTO STUDENTS(NAME,AGE , DEPARTMENT)\n",
    "    VALUES('DIYA',20,'MBBS')               \n",
    "''')\n",
    "\n",
    "cursor.execute('''\n",
    "    INSERT INTO STUDENTS(NAME,AGE , DEPARTMENT)\n",
    "    VALUES('SUHAS',42,'PHD')               \n",
    "''')\n",
    "connection.commit()"
   ]
  },
  {
   "cell_type": "code",
   "execution_count": 31,
   "metadata": {},
   "outputs": [
    {
     "name": "stdout",
     "output_type": "stream",
     "text": [
      "(1, 'VAIBHAV', 34, 'BB')\n",
      "(3, 'SUHAS', 42, 'PHD')\n"
     ]
    }
   ],
   "source": [
    "## query the data from the table.\n",
    "cursor.execute('SELECT * FROM STUDENTS')\n",
    "rows = cursor.fetchall()\n",
    "\n",
    "for row in rows:\n",
    "    print(row)"
   ]
  },
  {
   "cell_type": "code",
   "execution_count": 27,
   "metadata": {},
   "outputs": [],
   "source": [
    "## update the data in the table.\n",
    "\n",
    "cursor.execute('''\n",
    "UPDATE STUDENTS \n",
    "SET AGE = 34 \n",
    "WHERE NAME = 'VAIBHAV'               \n",
    "''')\n",
    "\n",
    "connection.commit()"
   ]
  },
  {
   "cell_type": "code",
   "execution_count": 30,
   "metadata": {},
   "outputs": [],
   "source": [
    "## delete the data from the table.\n",
    "\n",
    "cursor.execute('''\n",
    "DELETE FROM STUDENTS\n",
    "WHERE NAME = 'DIYA'              \n",
    "''')\n",
    "\n",
    "connection.commit()"
   ]
  },
  {
   "cell_type": "code",
   "execution_count": 38,
   "metadata": {},
   "outputs": [],
   "source": [
    "## working on the sales data.\n",
    "\n",
    "connect = sqlite3.connect('vaibhav.db')\n",
    "cur = connect.cursor()\n",
    "\n",
    "cur.execute('''\n",
    "CREATE TABLE IF NOT EXISTS vaibhav(\n",
    "    id INTEGER PRIMARY KEY,\n",
    "    date TEXT NOT NULL,\n",
    "    product TEXT NOT NULL,\n",
    "    sales INTEGER,\n",
    "    region TEXT\n",
    ")\n",
    "''')\n",
    "\n",
    "sales_data = [\n",
    "    ('2025-01-01','product1',100,'east'),\n",
    "    ('2025-01-02','product2',200,'west'),\n",
    "    ('2025-01-03','product3',300,'south'),\n",
    "    ('2025-01-04','product2',900,'north'),\n",
    "    ('2025-01-05','product1',400,'east'),\n",
    "]\n",
    "\n",
    "cur.executemany('''\n",
    "INSERT INTO vaibhav(date, product, sales, region)\n",
    "VALUES(?,?,?,?)                   \n",
    "''',sales_data)\n",
    "\n",
    "connect.commit()"
   ]
  },
  {
   "cell_type": "code",
   "execution_count": 39,
   "metadata": {},
   "outputs": [
    {
     "name": "stdout",
     "output_type": "stream",
     "text": [
      "(1, '2025-01-01', 'product1', 100, 'east')\n",
      "(2, '2025-01-02', 'product2', 200, 'west')\n",
      "(3, '2025-01-03', 'product3', 300, 'south')\n",
      "(4, '2025-01-04', 'product2', 900, 'north')\n",
      "(5, '2025-01-05', 'product1', 400, 'east')\n"
     ]
    }
   ],
   "source": [
    "cur.execute('SELECT * FROM vaibhav')\n",
    "rows2 = cur.fetchall()\n",
    "\n",
    "for row in rows2:\n",
    "    print(row)"
   ]
  },
  {
   "cell_type": "code",
   "execution_count": 40,
   "metadata": {},
   "outputs": [],
   "source": [
    "## for closing the connection\n",
    "\n",
    "connect.close()\n",
    "connection.close()"
   ]
  },
  {
   "cell_type": "code",
   "execution_count": null,
   "metadata": {},
   "outputs": [],
   "source": []
  }
 ],
 "metadata": {
  "kernelspec": {
   "display_name": "Python 3",
   "language": "python",
   "name": "python3"
  },
  "language_info": {
   "codemirror_mode": {
    "name": "ipython",
    "version": 3
   },
   "file_extension": ".py",
   "mimetype": "text/x-python",
   "name": "python",
   "nbconvert_exporter": "python",
   "pygments_lexer": "ipython3",
   "version": "3.10.0"
  }
 },
 "nbformat": 4,
 "nbformat_minor": 2
}
