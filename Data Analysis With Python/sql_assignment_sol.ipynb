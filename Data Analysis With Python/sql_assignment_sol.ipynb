{
 "cells": [
  {
   "cell_type": "code",
   "execution_count": 15,
   "metadata": {},
   "outputs": [
    {
     "name": "stdout",
     "output_type": "stream",
     "text": [
      "(1, 'VAIBHAV', 22, 'BB')\n",
      "(3, 'DIYA', 20, 'MBBS')\n",
      "(4, 'MAYUR', 24, 'MBBS')\n",
      "(5, 'SUHAS', 42, 'CS')\n",
      "(6, 'VAIBHAV', 22, 'BB')\n",
      "(7, 'DANISH', 21, 'CS')\n",
      "(8, 'DIYA', 20, 'MBBS')\n",
      "(9, 'MAYUR', 24, 'MBBS')\n",
      "(10, 'SUHAS', 42, 'CS')\n",
      "(11, 'VAIBHAV', 22, 'BB')\n",
      "(12, 'DANISH', 21, 'CS')\n",
      "(13, 'DIYA', 20, 'MBBS')\n",
      "(14, 'MAYUR', 24, 'MBBS')\n",
      "(15, 'SUHAS', 42, 'CS')\n",
      "(1, 'VAIBHAV', 22, 'BB')\n",
      "(6, 'VAIBHAV', 22, 'BB')\n",
      "(11, 'VAIBHAV', 22, 'BB')\n"
     ]
    }
   ],
   "source": [
    "import sqlite3\n",
    "\n",
    "connection = sqlite3.connect('test.db')\n",
    "cursor = connection.cursor()\n",
    "\n",
    "cursor.execute('''\n",
    "CREATE TABLE IF NOT EXISTS EMPLOYEES(\n",
    "    ID INTEGER PRIMARY KEY,\n",
    "    NAME TEXT NOT NULL,\n",
    "    AGE INTEGER NOT NULL,\n",
    "    DEPARTMENT TEXT\n",
    ")\n",
    "''')\n",
    "\n",
    "cursor.execute('''\n",
    "INSERT INTO EMPLOYEES(NAME,AGE,DEPARTMENT)\n",
    "VALUES('VAIBHAV',22,'BB')                  \n",
    "''')\n",
    "\n",
    "cursor.execute('''\n",
    "INSERT INTO EMPLOYEES(NAME,AGE,DEPARTMENT)\n",
    "VALUES('DANISH',21,'CS')                  \n",
    "''')\n",
    "\n",
    "cursor.execute('''\n",
    "INSERT INTO EMPLOYEES(NAME,AGE,DEPARTMENT)\n",
    "VALUES('DIYA',20,'MBBS')                  \n",
    "''')\n",
    "\n",
    "cursor.execute('''\n",
    "INSERT INTO EMPLOYEES(NAME,AGE,DEPARTMENT)\n",
    "VALUES('MAYUR',24,'MBBS')                  \n",
    "''')\n",
    "\n",
    "cursor.execute('''\n",
    "INSERT INTO EMPLOYEES(NAME,AGE,DEPARTMENT)\n",
    "VALUES('SUHAS',42,'CS')                  \n",
    "''')\n",
    "\n",
    "cursor.execute('SELECT * FROM EMPLOYEES')\n",
    "rows = cursor.fetchall()\n",
    "\n",
    "for row in rows:\n",
    "    print(row)\n",
    "\n",
    "def fetch_employees_by_department(department_name):\n",
    "    cursor.execute(\n",
    "                 f\"SELECT * FROM EMPLOYEES WHERE department = '{department_name}'\" \n",
    "                   )\n",
    "    data = cursor.fetchall()\n",
    "    for d in data:\n",
    "        print(d)\n",
    "     \n",
    "fetch_employees_by_department('BB')\n"
   ]
  },
  {
   "cell_type": "code",
   "execution_count": 11,
   "metadata": {},
   "outputs": [],
   "source": [
    "cursor.execute('''\n",
    "UPDATE EMPLOYEES\n",
    "SET DEPARTMENT = 'BB'\n",
    "WHERE ID = 2               \n",
    "''')\n",
    "connection.commit()"
   ]
  },
  {
   "cell_type": "code",
   "execution_count": 14,
   "metadata": {},
   "outputs": [],
   "source": [
    "cursor.execute('''\n",
    "DELETE FROM EMPLOYEES\n",
    "WHERE ID = 2             \n",
    "''')\n",
    "connection.commit()"
   ]
  },
  {
   "cell_type": "code",
   "execution_count": 19,
   "metadata": {},
   "outputs": [
    {
     "name": "stdout",
     "output_type": "stream",
     "text": [
      "(1, 'VAIBHAV', 22, 'BB')\n",
      "(3, 'DIYA', 20, 'MBBS')\n",
      "(4, 'MAYUR', 24, 'MBBS')\n",
      "(5, 'SUHAS', 42, 'CS')\n",
      "(6, 'VAIBHAV', 22, 'BB')\n",
      "(7, 'DANISH', 21, 'CS')\n",
      "(8, 'DIYA', 20, 'MBBS')\n",
      "(9, 'MAYUR', 24, 'MBBS')\n",
      "(10, 'SUHAS', 42, 'CS')\n",
      "(11, 'VAIBHAV', 22, 'BB')\n",
      "(12, 'DANISH', 21, 'CS')\n",
      "(13, 'DIYA', 20, 'MBBS')\n",
      "(14, 'MAYUR', 24, 'MBBS')\n",
      "(15, 'SUHAS', 42, 'CS')\n"
     ]
    }
   ],
   "source": [
    "cursor.execute('SELECT * FROM EMPLOYEES')\n",
    "dataset = cursor.fetchall()\n",
    "\n",
    "for d in dataset:\n",
    "    print(d)"
   ]
  },
  {
   "cell_type": "code",
   "execution_count": 21,
   "metadata": {},
   "outputs": [
    {
     "name": "stdout",
     "output_type": "stream",
     "text": [
      "(5, 'SUHAS', 42, 'CS')\n",
      "(10, 'SUHAS', 42, 'CS')\n",
      "(15, 'SUHAS', 42, 'CS')\n"
     ]
    }
   ],
   "source": [
    "cursor.execute('''\n",
    "SELECT * FROM EMPLOYEES WHERE AGE > 30               \n",
    "''')\n",
    "d = cursor.fetchall()\n",
    "for x in d:\n",
    "    print(x)"
   ]
  },
  {
   "cell_type": "code",
   "execution_count": 22,
   "metadata": {},
   "outputs": [
    {
     "name": "stdout",
     "output_type": "stream",
     "text": [
      "(1, 'VAIBHAV', 22, 'BB')\n",
      "(6, 'VAIBHAV', 22, 'BB')\n",
      "(11, 'VAIBHAV', 22, 'BB')\n"
     ]
    }
   ],
   "source": [
    "cursor.execute('''\n",
    "SELECT * FROM employees WHERE name LIKE '%V%';               \n",
    "''')\n",
    "\n",
    "tmp = cursor.fetchall()\n",
    "for t in tmp:\n",
    "    print(t)"
   ]
  },
  {
   "cell_type": "code",
   "execution_count": null,
   "metadata": {},
   "outputs": [],
   "source": [
    "dmp = [\n",
    "    ('a',10,'BB'),\n",
    "    ('b',11,'CS'),\n",
    "    ('c',12,'MT'),\n",
    "    ('d',13,'AM'),\n",
    "    ('e',14,'CH'),\n",
    "]\n",
    "\n",
    "try:\n",
    "    connection.execute(\"BEGIN TRANSACTION;\")\n",
    "    \n",
    "    cursor.executemany('''\n",
    "    INSERT INTO EMPLOYEES(NAME, AGE, DEPARTMENT)\n",
    "    VALUES(?,?,?)  \n",
    "    ''',dmp)\n",
    "\n",
    "    connection.commit()\n",
    "except Exception as e:\n",
    "    connection.rollback()\n",
    "    print(e)\n",
    "    \n"
   ]
  },
  {
   "cell_type": "code",
   "execution_count": 27,
   "metadata": {},
   "outputs": [],
   "source": [
    "updates = [\n",
    "    (99,'a'),\n",
    "    (99,'b'),\n",
    "    (99,'c')\n",
    "]\n",
    "\n",
    "try:\n",
    "    connection.execute(\"Begin Transaction;\")\n",
    "    \n",
    "    cursor.executemany('''\n",
    "    UPDATE EMPLOYEES\n",
    "    SET AGE = ?\n",
    "    WHERE NAME = ?\n",
    "    ''', updates)\n",
    "    \n",
    "    connection.commit()\n",
    "except Exception as e:\n",
    "    connection.rollback()\n",
    "    print(e)\n",
    "    "
   ]
  },
  {
   "cell_type": "code",
   "execution_count": null,
   "metadata": {},
   "outputs": [],
   "source": [
    "cursor.execute('''\n",
    "CREATE TABLE IF NOT EXISTS DEPARTMENTS\n",
    "ID INTEGER PRIMARY KEY,\n",
    "NAME TEXT NOT NULL               \n",
    "''')\n",
    "\n",
    "cursor.execute('''\n",
    "UPDATE EMPLOYEES\n",
    "SET ID = (SELECT ID FROM DEPARTMENTS WHERE NAME = EMPLOYEES.DEPARTMENT)\n",
    "WHERE DEPARTMENT IS NOT NULL               \n",
    "''')\n",
    "\n"
   ]
  }
 ],
 "metadata": {
  "kernelspec": {
   "display_name": "Python 3",
   "language": "python",
   "name": "python3"
  },
  "language_info": {
   "codemirror_mode": {
    "name": "ipython",
    "version": 3
   },
   "file_extension": ".py",
   "mimetype": "text/x-python",
   "name": "python",
   "nbconvert_exporter": "python",
   "pygments_lexer": "ipython3",
   "version": "3.10.0"
  }
 },
 "nbformat": 4,
 "nbformat_minor": 2
}
